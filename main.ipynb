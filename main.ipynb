{
 "cells": [
  {
   "cell_type": "code",
   "execution_count": 27,
   "metadata": {},
   "outputs": [],
   "source": [
    "import pandas as pd \n",
    "from nba_api.stats.endpoints import *\n",
    "from teamstats import *\n",
    "from playerstats import *\n",
    "import os\n"
   ]
  },
  {
   "cell_type": "code",
   "execution_count": 28,
   "metadata": {},
   "outputs": [
    {
     "name": "stderr",
     "output_type": "stream",
     "text": [
      "c:\\Users\\joshu\\anaconda3\\envs\\nba\\lib\\site-packages\\urllib3\\connectionpool.py:1099: InsecureRequestWarning: Unverified HTTPS request is being made to host 'stats.nba.com'. Adding certificate verification is strongly advised. See: https://urllib3.readthedocs.io/en/latest/advanced-usage.html#tls-warnings\n",
      "  warnings.warn(\n",
      "c:\\Users\\joshu\\anaconda3\\envs\\nba\\lib\\site-packages\\urllib3\\connectionpool.py:1099: InsecureRequestWarning: Unverified HTTPS request is being made to host 'stats.nba.com'. Adding certificate verification is strongly advised. See: https://urllib3.readthedocs.io/en/latest/advanced-usage.html#tls-warnings\n",
      "  warnings.warn(\n"
     ]
    }
   ],
   "source": [
    "players = getPlayerData()\n",
    "teams = getTeamData()\n"
   ]
  },
  {
   "cell_type": "markdown",
   "metadata": {},
   "source": [
    "## Player images"
   ]
  },
  {
   "cell_type": "code",
   "execution_count": 29,
   "metadata": {},
   "outputs": [],
   "source": [
    "start = \"https://cdn.nba.com/headshots/nba/latest/260x190/\"\n",
    "end = \".png\"\n",
    "players[\"IMAGE_URL\"] = players[\"PLAYER_ID\"].apply(lambda player_id: start + str(player_id) + end)"
   ]
  },
  {
   "cell_type": "markdown",
   "metadata": {},
   "source": [
    "## Team images"
   ]
  },
  {
   "cell_type": "code",
   "execution_count": 30,
   "metadata": {},
   "outputs": [],
   "source": [
    "start = \"https://cdn.nba.com/logos/nba/\" \n",
    "end = \"/global/L/logo.svg\"\n",
    "teams[\"IMAGE_URL\"] = teams[\"TEAM_ID\"].apply(lambda team_id: start + str(team_id) + end)"
   ]
  },
  {
   "cell_type": "code",
   "execution_count": 31,
   "metadata": {},
   "outputs": [],
   "source": [
    "# Get **all** the games so we can filter to an individual GAME_ID\n",
    "result = leaguegamefinder.LeagueGameFinder()\n",
    "games = result.get_data_frames()[0]"
   ]
  },
  {
   "cell_type": "code",
   "execution_count": 32,
   "metadata": {},
   "outputs": [
    {
     "data": {
      "text/html": [
       "<div>\n",
       "<style scoped>\n",
       "    .dataframe tbody tr th:only-of-type {\n",
       "        vertical-align: middle;\n",
       "    }\n",
       "\n",
       "    .dataframe tbody tr th {\n",
       "        vertical-align: top;\n",
       "    }\n",
       "\n",
       "    .dataframe thead th {\n",
       "        text-align: right;\n",
       "    }\n",
       "</style>\n",
       "<table border=\"1\" class=\"dataframe\">\n",
       "  <thead>\n",
       "    <tr style=\"text-align: right;\">\n",
       "      <th></th>\n",
       "      <th>SEASON_ID</th>\n",
       "      <th>TEAM_ID</th>\n",
       "      <th>TEAM_ABBREVIATION</th>\n",
       "      <th>TEAM_NAME</th>\n",
       "      <th>GAME_ID</th>\n",
       "      <th>GAME_DATE</th>\n",
       "      <th>MATCHUP</th>\n",
       "      <th>WL</th>\n",
       "      <th>MIN</th>\n",
       "      <th>PTS</th>\n",
       "      <th>...</th>\n",
       "      <th>FT_PCT</th>\n",
       "      <th>OREB</th>\n",
       "      <th>DREB</th>\n",
       "      <th>REB</th>\n",
       "      <th>AST</th>\n",
       "      <th>STL</th>\n",
       "      <th>BLK</th>\n",
       "      <th>TOV</th>\n",
       "      <th>PF</th>\n",
       "      <th>PLUS_MINUS</th>\n",
       "    </tr>\n",
       "  </thead>\n",
       "  <tbody>\n",
       "    <tr>\n",
       "      <th>0</th>\n",
       "      <td>52023</td>\n",
       "      <td>1612709918</td>\n",
       "      <td>TEX</td>\n",
       "      <td>Texas Legends</td>\n",
       "      <td>2052300185</td>\n",
       "      <td>2023-12-12</td>\n",
       "      <td>TEX @ RGV</td>\n",
       "      <td>None</td>\n",
       "      <td>179</td>\n",
       "      <td>93</td>\n",
       "      <td>...</td>\n",
       "      <td>0.750</td>\n",
       "      <td>10</td>\n",
       "      <td>31</td>\n",
       "      <td>41</td>\n",
       "      <td>24</td>\n",
       "      <td>7</td>\n",
       "      <td>2</td>\n",
       "      <td>18</td>\n",
       "      <td>11</td>\n",
       "      <td>3.4</td>\n",
       "    </tr>\n",
       "    <tr>\n",
       "      <th>1</th>\n",
       "      <td>52023</td>\n",
       "      <td>1612709904</td>\n",
       "      <td>SXF</td>\n",
       "      <td>Sioux Falls Skyforce</td>\n",
       "      <td>2052300184</td>\n",
       "      <td>2023-12-12</td>\n",
       "      <td>SXF @ MCC</td>\n",
       "      <td>W</td>\n",
       "      <td>239</td>\n",
       "      <td>110</td>\n",
       "      <td>...</td>\n",
       "      <td>0.800</td>\n",
       "      <td>14</td>\n",
       "      <td>48</td>\n",
       "      <td>62</td>\n",
       "      <td>30</td>\n",
       "      <td>6</td>\n",
       "      <td>10</td>\n",
       "      <td>21</td>\n",
       "      <td>22</td>\n",
       "      <td>11.4</td>\n",
       "    </tr>\n",
       "    <tr>\n",
       "      <th>2</th>\n",
       "      <td>52023</td>\n",
       "      <td>1612709932</td>\n",
       "      <td>MCC</td>\n",
       "      <td>Motor City Cruise</td>\n",
       "      <td>2052300184</td>\n",
       "      <td>2023-12-12</td>\n",
       "      <td>MCC vs. SXF</td>\n",
       "      <td>L</td>\n",
       "      <td>240</td>\n",
       "      <td>106</td>\n",
       "      <td>...</td>\n",
       "      <td>0.529</td>\n",
       "      <td>15</td>\n",
       "      <td>29</td>\n",
       "      <td>44</td>\n",
       "      <td>23</td>\n",
       "      <td>14</td>\n",
       "      <td>4</td>\n",
       "      <td>9</td>\n",
       "      <td>23</td>\n",
       "      <td>-10.0</td>\n",
       "    </tr>\n",
       "    <tr>\n",
       "      <th>3</th>\n",
       "      <td>52023</td>\n",
       "      <td>1612709908</td>\n",
       "      <td>RGV</td>\n",
       "      <td>Rio Grande Valley Vipers</td>\n",
       "      <td>2052300185</td>\n",
       "      <td>2023-12-12</td>\n",
       "      <td>RGV vs. TEX</td>\n",
       "      <td>None</td>\n",
       "      <td>178</td>\n",
       "      <td>92</td>\n",
       "      <td>...</td>\n",
       "      <td>0.571</td>\n",
       "      <td>5</td>\n",
       "      <td>26</td>\n",
       "      <td>31</td>\n",
       "      <td>27</td>\n",
       "      <td>11</td>\n",
       "      <td>8</td>\n",
       "      <td>13</td>\n",
       "      <td>19</td>\n",
       "      <td>-2.8</td>\n",
       "    </tr>\n",
       "    <tr>\n",
       "      <th>4</th>\n",
       "      <td>22023</td>\n",
       "      <td>1610612754</td>\n",
       "      <td>IND</td>\n",
       "      <td>Indiana Pacers</td>\n",
       "      <td>0022300293</td>\n",
       "      <td>2023-12-11</td>\n",
       "      <td>IND @ DET</td>\n",
       "      <td>W</td>\n",
       "      <td>240</td>\n",
       "      <td>131</td>\n",
       "      <td>...</td>\n",
       "      <td>0.737</td>\n",
       "      <td>11</td>\n",
       "      <td>32</td>\n",
       "      <td>43</td>\n",
       "      <td>33</td>\n",
       "      <td>8</td>\n",
       "      <td>5</td>\n",
       "      <td>18</td>\n",
       "      <td>20</td>\n",
       "      <td>8.0</td>\n",
       "    </tr>\n",
       "  </tbody>\n",
       "</table>\n",
       "<p>5 rows × 28 columns</p>\n",
       "</div>"
      ],
      "text/plain": [
       "  SEASON_ID     TEAM_ID TEAM_ABBREVIATION                 TEAM_NAME  \\\n",
       "0     52023  1612709918               TEX             Texas Legends   \n",
       "1     52023  1612709904               SXF      Sioux Falls Skyforce   \n",
       "2     52023  1612709932               MCC         Motor City Cruise   \n",
       "3     52023  1612709908               RGV  Rio Grande Valley Vipers   \n",
       "4     22023  1610612754               IND            Indiana Pacers   \n",
       "\n",
       "      GAME_ID   GAME_DATE      MATCHUP    WL  MIN  PTS  ...  FT_PCT  OREB  \\\n",
       "0  2052300185  2023-12-12    TEX @ RGV  None  179   93  ...   0.750    10   \n",
       "1  2052300184  2023-12-12    SXF @ MCC     W  239  110  ...   0.800    14   \n",
       "2  2052300184  2023-12-12  MCC vs. SXF     L  240  106  ...   0.529    15   \n",
       "3  2052300185  2023-12-12  RGV vs. TEX  None  178   92  ...   0.571     5   \n",
       "4  0022300293  2023-12-11    IND @ DET     W  240  131  ...   0.737    11   \n",
       "\n",
       "   DREB  REB  AST  STL  BLK  TOV  PF  PLUS_MINUS  \n",
       "0    31   41   24    7    2   18  11         3.4  \n",
       "1    48   62   30    6   10   21  22        11.4  \n",
       "2    29   44   23   14    4    9  23       -10.0  \n",
       "3    26   31   27   11    8   13  19        -2.8  \n",
       "4    32   43   33    8    5   18  20         8.0  \n",
       "\n",
       "[5 rows x 28 columns]"
      ]
     },
     "execution_count": 32,
     "metadata": {},
     "output_type": "execute_result"
    }
   ],
   "source": [
    "games.head()"
   ]
  },
  {
   "cell_type": "code",
   "execution_count": 33,
   "metadata": {},
   "outputs": [],
   "source": [
    "try: os.mkdir(\"datasets\")\n",
    "except:pass"
   ]
  },
  {
   "cell_type": "code",
   "execution_count": 34,
   "metadata": {},
   "outputs": [
    {
     "ename": "",
     "evalue": "",
     "output_type": "error",
     "traceback": [
      "\u001b[1;31mThe Kernel crashed while executing code in the the current cell or a previous cell. Please review the code in the cell(s) to identify a possible cause of the failure. Click <a href='https://aka.ms/vscodeJupyterKernelCrash'>here</a> for more info. View Jupyter <a href='command:jupyter.viewOutput'>log</a> for further details."
     ]
    }
   ],
   "source": [
    "players.to_csv(\"datasets/playerstats.csv\", index=False)\n",
    "teams.to_csv(\"datasets/teamsstats.csv\", index=False)\n",
    "games.to_csv(\"datasets/gamesstats.csv\", index=False)"
   ]
  }
 ],
 "metadata": {
  "kernelspec": {
   "display_name": "webscraper",
   "language": "python",
   "name": "python3"
  },
  "language_info": {
   "codemirror_mode": {
    "name": "ipython",
    "version": 3
   },
   "file_extension": ".py",
   "mimetype": "text/x-python",
   "name": "python",
   "nbconvert_exporter": "python",
   "pygments_lexer": "ipython3",
   "version": "3.9.18"
  }
 },
 "nbformat": 4,
 "nbformat_minor": 2
}
